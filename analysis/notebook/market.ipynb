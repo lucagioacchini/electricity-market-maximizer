{
 "cells": [
  {
   "cell_type": "markdown",
   "metadata": {},
   "source": [
    "# Market Analysis"
   ]
  },
  {
   "cell_type": "code",
   "execution_count": null,
   "metadata": {},
   "outputs": [],
   "source": [
    "import sys\n",
    "sys.path.append(\"..\")\n",
    "import pandas as pd\n",
    "import numpy as np\n",
    "import matplotlib.pyplot as plt\n",
    "from src.intersection import intersection\n",
    "from matplotlib import rcParams \n",
    "from sklearn.metrics import roc_curve"
   ]
  },
  {
   "cell_type": "code",
   "execution_count": null,
   "metadata": {},
   "outputs": [],
   "source": [
    "rcParams.update({'font.size': 12})\n",
    "rcParams.update({'figure.autolayout': True})"
   ]
  },
  {
   "cell_type": "code",
   "execution_count": null,
   "metadata": {},
   "outputs": [],
   "source": [
    "def supCurve(df):\n",
    "    curve = pd.DataFrame(columns=['OPS','P','Q'])\n",
    "    cnt = 0\n",
    "    for op in df['OPERATORE'].unique():\n",
    "        new = pd.DataFrame(columns=['OPS','P','Q'])\n",
    "        temp = df.where(df['OPERATORE']==op).dropna()\n",
    "        new.loc[cnt] = [\n",
    "            op,\n",
    "            np.mean(temp['ENERGY_PRICE_NO']),\n",
    "            np.sum(temp['QUANTITY_NO'])\n",
    "        ]\n",
    "        cnt+=1\n",
    "        curve = pd.concat([curve, new], axis= 0)\n",
    "    \n",
    "    curve = curve.sort_values('P', ascending=True)\n",
    "    \n",
    "    return curve"
   ]
  },
  {
   "cell_type": "code",
   "execution_count": null,
   "metadata": {},
   "outputs": [],
   "source": [
    "def demCurve(df):\n",
    "    df['ENERGY_PRICE_NO'] = df['ENERGY_PRICE_NO'].replace(0, 3000)\n",
    "    curve = pd.DataFrame(columns=['OPS','P','Q'])\n",
    "    cnt = 0\n",
    "    for op in df['OPERATORE'].unique():\n",
    "        new = pd.DataFrame(columns=['OPS','P','Q'])\n",
    "        temp = df.where(df['OPERATORE']==op).dropna()\n",
    "        new.loc[cnt] = [\n",
    "            op,\n",
    "            np.mean(temp['ENERGY_PRICE_NO']),\n",
    "            np.sum(temp['QUANTITY_NO'])\n",
    "        ]\n",
    "        cnt+=1\n",
    "        curve = pd.concat([curve, new], axis= 0)\n",
    "    \n",
    "    curve = curve.sort_values('P', ascending=False)\n",
    "    \n",
    "    return curve"
   ]
  },
  {
   "cell_type": "markdown",
   "metadata": {},
   "source": [
    "## Bilateral Analysis\n",
    "### Demand/Supply Curves: No Bilateral"
   ]
  },
  {
   "cell_type": "code",
   "execution_count": null,
   "metadata": {},
   "outputs": [],
   "source": [
    "data = (\n",
    "    pd\n",
    "    .read_csv('../data/data.csv')\n",
    "    .drop(columns=[\n",
    "        'MARKET_CD', \n",
    "        'UNIT_REFERENCE_NO', \n",
    "        'MARKET_PARTECIPANT_XREF_NO',\n",
    "        'BID_OFFER_DATE_DT',\n",
    "        'TRANSACTION_REFERENCE_NO',\n",
    "        'MERIT_ORDER_NO',\n",
    "        'PARTIAL_QTY_ACCEPTED_IN',\n",
    "        'ADJ_QUANTITY_NO',\n",
    "        'ADJ_ENERGY_PRICE_NO',\n",
    "        'GRID_SUPPLY_POINT_NO',\n",
    "        'SUBMITTED_DT',\n",
    "        'BALANCED_REFERENCE_NO',\n",
    "    ])\n",
    ")"
   ]
  },
  {
   "cell_type": "code",
   "execution_count": null,
   "metadata": {},
   "outputs": [],
   "source": [
    "acc = (\n",
    "    data\n",
    "    .where(data['OPERATORE']!='Bilateralista')\n",
    "    .where(data['STATUS_CD'].isin(['ACC', 'REJ']))\n",
    "    .dropna()\n",
    ")\n",
    "off = acc.where(acc['PURPOSE_CD']=='OFF').dropna().drop(columns='PURPOSE_CD')\n",
    "bid = acc.where(acc['PURPOSE_CD']=='BID').dropna().drop(columns='PURPOSE_CD')\n",
    "sup = supCurve(off)\n",
    "dem = demCurve(bid)"
   ]
  },
  {
   "cell_type": "markdown",
   "metadata": {},
   "source": [
    "Cumulative sums of quantity"
   ]
  },
  {
   "cell_type": "code",
   "execution_count": null,
   "metadata": {},
   "outputs": [],
   "source": [
    "sup_cum = np.cumsum(sup['Q'])\n",
    "dem_cum = np.cumsum(dem['Q'])"
   ]
  },
  {
   "cell_type": "markdown",
   "metadata": {},
   "source": [
    "Determine the clearing price as the curves intersection point"
   ]
  },
  {
   "cell_type": "code",
   "execution_count": null,
   "metadata": {},
   "outputs": [],
   "source": [
    "clearing1 = intersection(sup_cum.values, sup.P.values, dem_cum.values, dem.P.values)[1][0]"
   ]
  },
  {
   "cell_type": "code",
   "execution_count": null,
   "metadata": {},
   "outputs": [],
   "source": [
    "plt.figure()\n",
    "plt.plot(sup_cum, sup.P, label='Supply', linewidth=2)\n",
    "plt.plot(dem_cum, dem.P, label='Demand', linewidth=2)\n",
    "plt.axhline(y=clearing1, linestyle='-.', color='k')\n",
    "plt.ylim(0, 500)\n",
    "plt.grid(linestyle='-.')\n",
    "plt.legend()\n",
    "\n",
    "plt.xlabel('Quantity [MWh]')\n",
    "plt.ylabel('Price [\\u20ac/MWh]')\n",
    "plt.savefig('../fig/CurvesNoB.png', transparent=True)"
   ]
  },
  {
   "cell_type": "markdown",
   "metadata": {},
   "source": [
    "Get the True Positive Rate and the False Positive Rate which will be used in the ROC curves"
   ]
  },
  {
   "cell_type": "code",
   "execution_count": null,
   "metadata": {},
   "outputs": [],
   "source": [
    "obs_off = off['STATUS_CD'].replace('ACC', 1).replace('REJ',0)\n",
    "obs_bid = bid['STATUS_CD'].replace('ACC', 1).replace('REJ',0)\n",
    "pred_off = off.where(off['ENERGY_PRICE_NO']>clearing1)['STATUS_CD'].replace(['ACC', 'REJ'],0).fillna(1)\n",
    "pred_bid = bid.where(bid['ENERGY_PRICE_NO']<clearing1)['STATUS_CD'].replace(['ACC', 'REJ'],0).fillna(1)\n",
    "obs = pd.concat([obs_off, obs_bid], axis= 0)\n",
    "pred = pd.concat([pred_off, pred_bid], axis= 0)\n",
    "\n",
    "fpr, tpr, thresholds = roc_curve(obs, pred)"
   ]
  },
  {
   "cell_type": "markdown",
   "metadata": {},
   "source": [
    "### Demand/Supply Curves: No Bilateral"
   ]
  },
  {
   "cell_type": "code",
   "execution_count": null,
   "metadata": {},
   "outputs": [],
   "source": [
    "data = (\n",
    "    pd\n",
    "    .read_csv('../data/data.csv')\n",
    "    .drop(columns=[\n",
    "        'MARKET_CD', \n",
    "        'UNIT_REFERENCE_NO', \n",
    "        'MARKET_PARTECIPANT_XREF_NO',\n",
    "        'BID_OFFER_DATE_DT',\n",
    "        'TRANSACTION_REFERENCE_NO',\n",
    "        'MERIT_ORDER_NO',\n",
    "        'PARTIAL_QTY_ACCEPTED_IN',\n",
    "        'ADJ_QUANTITY_NO',\n",
    "        'ADJ_ENERGY_PRICE_NO',\n",
    "        'GRID_SUPPLY_POINT_NO',\n",
    "        'SUBMITTED_DT',\n",
    "        'BALANCED_REFERENCE_NO',\n",
    "    ])\n",
    ")"
   ]
  },
  {
   "cell_type": "code",
   "execution_count": null,
   "metadata": {},
   "outputs": [],
   "source": [
    "acc = (\n",
    "    data\n",
    "    .where(data['STATUS_CD'].isin(['ACC', 'REJ']))\n",
    "    .dropna()\n",
    ")\n",
    "off = acc.where(acc['PURPOSE_CD']=='OFF').dropna().drop(columns='PURPOSE_CD')\n",
    "bid = acc.where(acc['PURPOSE_CD']=='BID').dropna().drop(columns='PURPOSE_CD')\n",
    "sup = supCurve(off)\n",
    "dem = demCurve(bid)"
   ]
  },
  {
   "cell_type": "markdown",
   "metadata": {},
   "source": [
    "Cumulative sums of quantity"
   ]
  },
  {
   "cell_type": "code",
   "execution_count": null,
   "metadata": {},
   "outputs": [],
   "source": [
    "sup_cum = np.cumsum(sup['Q'])\n",
    "dem_cum = np.cumsum(dem['Q'])"
   ]
  },
  {
   "cell_type": "markdown",
   "metadata": {},
   "source": [
    "Determine the clearing price as the curves intersection point"
   ]
  },
  {
   "cell_type": "code",
   "execution_count": null,
   "metadata": {},
   "outputs": [],
   "source": [
    "clearing2 = intersection(sup_cum.values, sup.P.values, dem_cum.values, dem.P.values)[1][0]"
   ]
  },
  {
   "cell_type": "code",
   "execution_count": null,
   "metadata": {},
   "outputs": [],
   "source": [
    "plt.figure()\n",
    "plt.plot(sup_cum, sup.P, label='Supply', linewidth=2)\n",
    "plt.plot(dem_cum, dem.P, label='Demand', linewidth=2)\n",
    "plt.axhline(y=clearing2, linestyle='-.', color='k')\n",
    "plt.ylim(0, 500)\n",
    "plt.grid(linestyle='-.')\n",
    "\n",
    "plt.legend()\n",
    "plt.xlabel('Quantity [MWh]')\n",
    "plt.ylabel('Price [\\u20ac/MWh]')\n",
    "plt.savefig('../fig/CurvesB.png', transparent=True)"
   ]
  },
  {
   "cell_type": "markdown",
   "metadata": {},
   "source": [
    "Get the True Positive Rate and the False Positive Rate which will be used in the ROC curves"
   ]
  },
  {
   "cell_type": "code",
   "execution_count": null,
   "metadata": {},
   "outputs": [],
   "source": [
    "obs_off = off['STATUS_CD'].replace('ACC', 1).replace('REJ',0)\n",
    "obs_bid = bid['STATUS_CD'].replace('ACC', 1).replace('REJ',0)\n",
    "pred_off = off.where(off['ENERGY_PRICE_NO']>clearing2)['STATUS_CD'].replace(['ACC', 'REJ'],0).fillna(1)\n",
    "pred_bid = bid.where(bid['ENERGY_PRICE_NO']<clearing2)['STATUS_CD'].replace(['ACC', 'REJ'],0).fillna(1)\n",
    "obs = pd.concat([obs_off, obs_bid], axis= 0)\n",
    "pred = pd.concat([pred_off, pred_bid], axis= 0)\n",
    "\n",
    "fprB, tprB, thresholds = roc_curve(obs, pred)"
   ]
  },
  {
   "cell_type": "markdown",
   "metadata": {},
   "source": [
    "### ROC Curves"
   ]
  },
  {
   "cell_type": "code",
   "execution_count": null,
   "metadata": {},
   "outputs": [],
   "source": [
    "plt.figure()\n",
    "plt.plot(fpr, tpr, label='NoBilateral', linewidth=2)\n",
    "plt.plot(fprB, tprB, label='AggBilateral', linestyle='-.', linewidth=2)\n",
    "plt.plot([0, 1], [0, 1], color='k', linestyle=':')\n",
    "\n",
    "plt.xlabel('False Positive Rate')\n",
    "plt.ylabel('True Positive Rate')\n",
    "plt.legend()\n",
    "plt.savefig('../fig/roc.png', transparent=True)"
   ]
  },
  {
   "cell_type": "markdown",
   "metadata": {},
   "source": [
    "# Market Coupling"
   ]
  },
  {
   "cell_type": "code",
   "execution_count": null,
   "metadata": {},
   "outputs": [],
   "source": [
    "from influxdb import InfluxDBClient\n",
    "import pandas as pd\n",
    "import sys\n",
    "sys.path.append(\"..\")\n",
    "import matplotlib.pyplot as plt\n",
    "from src.intersection import intersection\n",
    "import numpy as np\n",
    "from matplotlib import rcParams\n",
    "rcParams.update({'font.size': 12})\n",
    "rcParams.update({'figure.autolayout': True})"
   ]
  },
  {
   "cell_type": "markdown",
   "metadata": {},
   "source": [
    "## MGP Coupling"
   ]
  },
  {
   "cell_type": "code",
   "execution_count": null,
   "metadata": {},
   "outputs": [],
   "source": [
    "client = InfluxDBClient('localhost', 8086, 'root', 'root', 'PublicBids')\n",
    "res = client.query(\"select * from demandMGP where time='2020-04-03T00:00:00Z'\").raw\n",
    "bid = pd.DataFrame(res['series'][0]['values'], columns = res['series'][0]['columns']).set_index('op').drop(columns=['time'])\n",
    "res = client.query(\"select * from supplyMGP where time='2020-04-03T00:00:00Z'\").raw\n",
    "off = pd.DataFrame(res['series'][0]['values'], columns = res['series'][0]['columns']).set_index('op').drop(columns=['time'])\n",
    "bid.Price = bid.Price.replace(0, 3000)"
   ]
  },
  {
   "cell_type": "code",
   "execution_count": null,
   "metadata": {},
   "outputs": [],
   "source": [
    "sup = off[(off >= 0).any(1)]\n",
    "dem = bid[(bid >= 0).any(1)]\n",
    "# Sort the prices\n",
    "sup = off.sort_values('Price', ascending=True)\n",
    "dem = bid.sort_values('Price', ascending=False)\n",
    "# Cumulative sums of quantity\n",
    "sup_cum = np.cumsum(sup['Quantity'])\n",
    "dem_cum = np.cumsum(dem['Quantity'])\n",
    "clearing = intersection( \n",
    "    dem_cum.values, \n",
    "    dem.Price.values, \n",
    "    sup_cum.values, \n",
    "    sup.Price.values,\n",
    ")"
   ]
  },
  {
   "cell_type": "code",
   "execution_count": null,
   "metadata": {},
   "outputs": [],
   "source": [
    "plt.figure(figsize=(9,8))\n",
    "plt.plot(dem_cum, dem.Price.values, linewidth = 2, label='Demand')\n",
    "plt.plot(sup_cum, sup.Price.values, linewidth = 2, label='Supply')\n",
    "plt.axhline(y=clearing[1][0], linestyle='-.', color='k')\n",
    "plt.ylim(0, 300)\n",
    "plt.grid(linestyle='-.')\n",
    "plt.legend()\n",
    "\n",
    "plt.xlabel('Quantity [MWh]')\n",
    "plt.ylabel('Price [\\u20ac/MWh]')\n",
    "plt.savefig('../fig/CurvesMGP.png', transparent=True)\n",
    "plt.close()"
   ]
  },
  {
   "cell_type": "markdown",
   "metadata": {},
   "source": [
    "## MI Coupling"
   ]
  },
  {
   "cell_type": "code",
   "execution_count": null,
   "metadata": {},
   "outputs": [],
   "source": [
    "client = InfluxDBClient('localhost', 8086, 'root', 'root', 'PublicBids')\n",
    "res = client.query(\"select * from demandMI where time='2020-04-03T00:00:00Z'\").raw\n",
    "bid = pd.DataFrame(res['series'][0]['values'], columns = res['series'][0]['columns']).set_index('op').drop(columns=['time'])\n",
    "res = client.query(\"select * from supplyMI where time='2020-04-03T00:00:00Z'\").raw\n",
    "off = pd.DataFrame(res['series'][0]['values'], columns = res['series'][0]['columns']).set_index('op').drop(columns=['time'])\n",
    "bid.Price = bid.Price.replace(0, 3000)"
   ]
  },
  {
   "cell_type": "code",
   "execution_count": null,
   "metadata": {},
   "outputs": [],
   "source": [
    "sup = off[(off >= 0).any(1)]\n",
    "dem = bid[(bid >= 0).any(1)]\n",
    "# Sort the prices\n",
    "sup = off.sort_values('Price', ascending=True)\n",
    "dem = bid.sort_values('Price', ascending=False)\n",
    "# Cumulative sums of quantity\n",
    "sup_cum = np.cumsum(sup['Quantity'])\n",
    "dem_cum = np.cumsum(dem['Quantity'])\n",
    "clearing = intersection( \n",
    "    dem_cum.values, \n",
    "    dem.Price.values, \n",
    "    sup_cum.values, \n",
    "    sup.Price.values,\n",
    ")"
   ]
  },
  {
   "cell_type": "code",
   "execution_count": null,
   "metadata": {},
   "outputs": [],
   "source": [
    "plt.figure(figsize=(9,8))\n",
    "plt.plot(dem_cum, dem.Price.values, linewidth = 2, label='Supply')\n",
    "plt.plot(sup_cum, sup.Price.values, linewidth = 2, label='Demand')\n",
    "plt.axhline(y=clearing[1][0], linestyle='-.', color='k')\n",
    "plt.ylim(0, 300)\n",
    "plt.grid(linestyle='-.')\n",
    "plt.legend()\n",
    "\n",
    "plt.xlabel('Quantity [MWh]')\n",
    "plt.ylabel('Price [\\u20ac/MWh]')\n",
    "plt.savefig('../fig/CurvesMI.png', transparent=True)\n",
    "plt.close()"
   ]
  },
  {
   "cell_type": "markdown",
   "metadata": {},
   "source": [
    "## MSD Coupling"
   ]
  },
  {
   "cell_type": "code",
   "execution_count": null,
   "metadata": {},
   "outputs": [],
   "source": [
    "th = client.query(f\"SELECT * FROM STRes where time='2020-04-03T00:00:00Z'\").raw['series'][0]['values'][0][1]"
   ]
  },
  {
   "cell_type": "code",
   "execution_count": null,
   "metadata": {},
   "outputs": [],
   "source": [
    "client = InfluxDBClient('localhost', 8086, 'root', 'root', 'PublicBids')\n",
    "res = client.query(\"select * from demandMSD where time='2020-04-03T00:00:00Z'\").raw\n",
    "bid = pd.DataFrame(res['series'][0]['values'], columns = res['series'][0]['columns']).set_index('op').drop(columns=['time'])\n",
    "res = client.query(\"select * from supplyMSD where time='2020-04-03T00:00:00Z'\").raw\n",
    "off = pd.DataFrame(res['series'][0]['values'], columns = res['series'][0]['columns']).set_index('op').drop(columns=['time'])\n",
    "bid.Price = bid.Price.replace(0, 3000)"
   ]
  },
  {
   "cell_type": "code",
   "execution_count": null,
   "metadata": {},
   "outputs": [],
   "source": [
    "sup = off[(off >= 0).any(1)]\n",
    "dem = bid[(bid >= 0).any(1)]\n",
    "# Sort the prices\n",
    "sup = off.sort_values('Price', ascending=True)\n",
    "dem = bid.sort_values('Price', ascending=False)\n",
    "# Cumulative sums of quantity\n",
    "sup_cum = np.cumsum(sup['Quantity'])\n",
    "dem_cum = np.cumsum(dem['Quantity'])\n",
    "# Create the th curve\n",
    "x_th = np.array([th, th])\n",
    "y_th = np.array([0, np.max(sup.Price.values)])\n",
    "clearing = intersection( \n",
    "    dem_cum.values, \n",
    "    dem.Price.values, \n",
    "    x_th,\n",
    "    y_th\n",
    ")"
   ]
  },
  {
   "cell_type": "code",
   "execution_count": null,
   "metadata": {},
   "outputs": [],
   "source": [
    "plt.figure(figsize=(9,8))\n",
    "plt.plot(dem_cum, dem.Price.values, linewidth = 2, label='Demand')\n",
    "plt.plot(x_th, y_th, linewidth = 2, linestyle=':', color='r', label='Terna Threshold')\n",
    "plt.axhline(y=clearing[1][0], linestyle='-.', color='k')\n",
    "plt.ylim(0, 300)\n",
    "plt.grid(linestyle='-.')\n",
    "plt.legend()\n",
    "\n",
    "plt.xlabel('Quantity [MWh]')\n",
    "plt.ylabel('Price [\\u20ac/MWh]')\n",
    "plt.savefig('../fig/CurvesMSD_d.png', transparent=True)\n",
    "plt.close()"
   ]
  },
  {
   "cell_type": "code",
   "execution_count": null,
   "metadata": {},
   "outputs": [],
   "source": [
    "sup = off[(off >= 0).any(1)]\n",
    "dem = bid[(bid >= 0).any(1)]\n",
    "# Sort the prices\n",
    "sup = off.sort_values('Price', ascending=True)\n",
    "dem = bid.sort_values('Price', ascending=False)\n",
    "# Cumulative sums of quantity\n",
    "sup_cum = np.cumsum(sup['Quantity'])\n",
    "dem_cum = np.cumsum(dem['Quantity'])\n",
    "# Create the th curve\n",
    "x_th = np.array([th, th])\n",
    "y_th = np.array([0, np.max(sup.Price.values)])\n",
    "clearing = intersection( \n",
    "    sup_cum.values, \n",
    "    sup.Price.values, \n",
    "    x_th,\n",
    "    y_th\n",
    ")"
   ]
  },
  {
   "cell_type": "code",
   "execution_count": null,
   "metadata": {},
   "outputs": [],
   "source": [
    "plt.figure(figsize=(9,8))\n",
    "plt.plot(sup_cum, sup.Price.values, linewidth = 2, label='Supply')\n",
    "plt.plot(x_th, y_th, linewidth = 2, linestyle=':', color='r', label='Terna Threshold')\n",
    "plt.axhline(y=clearing[1][0], linestyle='-.', color='k')\n",
    "plt.ylim(0, 300)\n",
    "plt.grid(linestyle='-.')\n",
    "plt.legend()\n",
    "\n",
    "plt.xlabel('Quantity [MWh]')\n",
    "plt.ylabel('Price [\\u20ac/MWh]')\n",
    "plt.savefig('../fig/CurvesMSD_s.png', transparent=True)\n",
    "plt.close()"
   ]
  },
  {
   "cell_type": "code",
   "execution_count": null,
   "metadata": {},
   "outputs": [],
   "source": []
  }
 ],
 "metadata": {
  "file_extension": ".py",
  "kernelspec": {
   "display_name": "Python 3.6.9 64-bit",
   "language": "python",
   "name": "python36964bit783c28c53b0e437ca95db3440c52cd20"
  },
  "language_info": {
   "codemirror_mode": {
    "name": "ipython",
    "version": 3
   },
   "file_extension": ".py",
   "mimetype": "text/x-python",
   "name": "python",
   "nbconvert_exporter": "python",
   "pygments_lexer": "ipython3",
   "version": "3.6.9"
  },
  "mimetype": "text/x-python",
  "name": "python",
  "npconvert_exporter": "python",
  "pygments_lexer": "ipython3",
  "version": 3
 },
 "nbformat": 4,
 "nbformat_minor": 2
}