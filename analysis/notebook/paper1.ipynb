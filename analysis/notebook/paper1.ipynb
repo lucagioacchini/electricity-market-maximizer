{
 "cells": [
  {
   "cell_type": "markdown",
   "metadata": {},
   "source": [
    "# Main Codes used for Paper 1"
   ]
  },
  {
   "cell_type": "code",
   "execution_count": null,
   "metadata": {},
   "outputs": [],
   "source": [
    "import sys\n",
    "sys.path.append(\"..\")\n",
    "import pandas as pd \n",
    "from src.arima import ArimaV2 as Arima\n",
    "from src.arima import Arima as Arima2\n",
    "from src.genetic import Genetic\n",
    "from influxdb import InfluxDBClient\n",
    "from datetime import datetime\n",
    "from dateutil import relativedelta\n",
    "import matplotlib.pyplot as plt\n",
    "from matplotlib import rcParams\n",
    "import numpy as np\n",
    "from src.intersection import intersection\n",
    "from sklearn.metrics import mean_squared_error, mean_absolute_error, r2_score\n",
    "\n",
    "TODAY = datetime.strptime('15/03/2020', '%d/%m/%Y')\n",
    "START = TODAY - relativedelta.relativedelta(days=60)\n",
    "START = int(datetime.timestamp(START)*1e9)\n",
    "\n",
    "SAVE = True"
   ]
  },
  {
   "cell_type": "markdown",
   "metadata": {},
   "source": [
    "# 1) Market Clearing\n",
    "## MI Clearing"
   ]
  },
  {
   "cell_type": "code",
   "execution_count": null,
   "metadata": {},
   "outputs": [],
   "source": [
    "client = InfluxDBClient('localhost', 8086, 'root', 'root', 'PublicBids')\n",
    "res = client.query(\"select * from demandMI where time='2020-04-04T00:00:00Z'\").raw\n",
    "bid = pd.DataFrame(res['series'][0]['values'], columns = res['series'][0]['columns']).set_index('op').drop(columns=['time'])\n",
    "res = client.query(\"select * from supplyMI where time='2020-04-04T00:00:00Z'\").raw\n",
    "off = pd.DataFrame(res['series'][0]['values'], columns = res['series'][0]['columns']).set_index('op').drop(columns=['time'])\n",
    "bid.Price = bid.Price.replace(0, 3000)\n",
    "\n",
    "sup = off[(off >= 0).any(1)]\n",
    "dem = bid[(bid >= 0).any(1)]\n",
    "# Sort the prices\n",
    "sup = off.sort_values('Price', ascending=True)\n",
    "dem = bid.sort_values('Price', ascending=False)\n",
    "# Cumulative sums of quantity\n",
    "sup_cum = np.cumsum(sup['Quantity'])\n",
    "dem_cum = np.cumsum(dem['Quantity'])\n",
    "clearing = intersection( \n",
    "    dem_cum.values, \n",
    "    dem.Price.values, \n",
    "    sup_cum.values, \n",
    "    sup.Price.values,\n",
    ")\n",
    "\n",
    "rcParams.update({'figure.autolayout': True})\n",
    "rcParams.update({'font.size': 12})\n",
    "\n",
    "plt.figure(figsize=(7.4,4.8))\n",
    "plt.plot(dem_cum, dem.Price.values, linewidth = 2, label='Supply', color='steelblue')\n",
    "plt.plot(sup_cum, sup.Price.values, linewidth = 2, label='Demand', color='salmon', linestyle='-.')\n",
    "plt.axhline(y=clearing[1][0], linestyle= (0, (5, 10)), color='k', label='Clearing Price')\n",
    "plt.ylim(0, 300)\n",
    "plt.grid(linestyle='-.')\n",
    "plt.legend(ncol=3)\n",
    "plt.xlabel('Quantity [MWh]')\n",
    "plt.ylabel('Price [\\u20ac/MWh]')\n",
    "if SAVE:\n",
    "    plt.savefig('../fig/CurvesMI.png', transparent=True)"
   ]
  },
  {
   "cell_type": "markdown",
   "metadata": {},
   "source": [
    "## MSD Supply"
   ]
  },
  {
   "cell_type": "code",
   "execution_count": null,
   "metadata": {
    "scrolled": true
   },
   "outputs": [],
   "source": [
    "th = client.query(f\"SELECT * FROM STRes where time='2020-04-04T00:00:00Z'\").raw['series'][0]['values'][0][1]\n",
    "\n",
    "client = InfluxDBClient('localhost', 8086, 'root', 'root', 'PublicBids')\n",
    "res = client.query(\"select * from demandMSD where time='2020-04-04T00:00:00Z'\").raw\n",
    "bid = pd.DataFrame(res['series'][0]['values'], columns = res['series'][0]['columns']).set_index('op').drop(columns=['time'])\n",
    "res = client.query(\"select * from supplyMSD where time='2020-04-04T00:00:00Z'\").raw\n",
    "off = pd.DataFrame(res['series'][0]['values'], columns = res['series'][0]['columns']).set_index('op').drop(columns=['time'])\n",
    "bid.Price = bid.Price.replace(0, 3000)\n",
    "\n",
    "sup = off[(off >= 0).any(1)]\n",
    "dem = bid[(bid >= 0).any(1)]\n",
    "# Sort the prices\n",
    "sup = off.sort_values('Price', ascending=True)\n",
    "dem = bid.sort_values('Price', ascending=False)\n",
    "# Cumulative sums of quantity\n",
    "sup_cum = np.cumsum(sup['Quantity'])\n",
    "dem_cum = np.cumsum(dem['Quantity'])\n",
    "# Create the th curve\n",
    "x_th = np.array([th, th])\n",
    "y_th = np.array([0, np.max(sup.Price.values)])\n",
    "clearing = intersection( \n",
    "    sup_cum.values, \n",
    "    sup.Price.values, \n",
    "    x_th,\n",
    "    y_th\n",
    ")\n",
    "\n",
    "rcParams.update({'figure.autolayout': True})\n",
    "rcParams.update({'font.size': 12})\n",
    "\n",
    "plt.figure(figsize=(7.4,4.8))\n",
    "plt.plot(sup_cum, sup.Price.values, linewidth = 2, label='Supply', color='steelblue')\n",
    "plt.plot(x_th, y_th, linewidth = 2, label='Terna Threshold', color='salmon', linestyle='-.')\n",
    "plt.axhline(y=clearing[1][0], linestyle= (0, (5, 10)), color='k', label='Clearing Price')\n",
    "plt.ylim(0, 300)\n",
    "plt.grid(linestyle='-.')\n",
    "plt.legend()\n",
    "\n",
    "plt.xlabel('Quantity [MWh]')\n",
    "plt.ylabel('Price [\\u20ac/MWh]')\n",
    "if SAVE:\n",
    "    plt.savefig('../fig/CurvesMSD_s.png', transparent=True)"
   ]
  },
  {
   "cell_type": "markdown",
   "metadata": {},
   "source": [
    "# 2) Performances Evaluation\n",
    "## Forecasting Analysis"
   ]
  },
  {
   "cell_type": "code",
   "execution_count": null,
   "metadata": {
    "scrolled": true
   },
   "outputs": [],
   "source": [
    "arima = pd.read_csv('../data/arima1days.csv')\n",
    "lstm = pd.read_csv('../data/lstm1days.csv')\n",
    "arima = arima.drop(988)\n",
    "lstm = lstm.drop(np.arange(1041,1048))\n",
    "lstm = lstm.drop(np.arange(0,53))\n",
    "\n",
    "rcParams.update({'figure.autolayout': True})\n",
    "rcParams.update({'font.size': 12})\n",
    "\n",
    "plt.plot(lstm.y.values[530:561], label='Observation', marker='o', color='steelblue', markersize=4)\n",
    "plt.plot(arima.y_hat.values[530:561], label='ARIMA(0,1,0)', marker='^', linestyle='--', color='brown', markersize=4)\n",
    "\n",
    "plt.legend()\n",
    "plt.xlabel('Days')\n",
    "plt.ylabel('Daily Demanded Quantity [MWh]')\n",
    "plt.grid('--')\n",
    "plt.ylim(8500, 20000)\n",
    "plt.xlim(0)\n",
    "if SAVE:\n",
    "    plt.savefig('../fig/arimacomparison.png', transparent=True)"
   ]
  },
  {
   "cell_type": "code",
   "execution_count": null,
   "metadata": {},
   "outputs": [],
   "source": [
    "mse = mean_squared_error(lstm.y.values, arima.y_hat.values)\n",
    "mape = np.mean(np.abs((lstm.y.values - arima.y_hat.values) / lstm.y.values)) * 100\n",
    "mae = mean_absolute_error(lstm.y.values, arima.y_hat.values)\n",
    "r2 = r2_score(lstm.y.values, arima.y_hat.values)\n",
    "print(f'\\tMSE: {round(mse,2)}')\n",
    "print(f'\\tMAE: {round(mae,2)}')\n",
    "print(f'\\tMAPE: {round(mape,2)}%')\n",
    "print(f'\\tR2: {round(r2,2)}')"
   ]
  },
  {
   "cell_type": "code",
   "execution_count": null,
   "metadata": {},
   "outputs": [],
   "source": [
    "OP_LIST = []\n",
    "for market in ['MGP', 'MI', 'MSD']:\n",
    "    res = client.query(f\"SELECT * FROM demand{market} WHERE time >= {START}\").raw\n",
    "    for val in res['series'][0]['values']:\n",
    "        if val[3] not in OP_LIST and \"'\" not in val[3]:\n",
    "            OP_LIST.append(val[3])\n",
    "\n",
    "    res = client.query(f\"SELECT * FROM supply{market} WHERE time >= {START}\").raw\n",
    "    for val in res['series'][0]['values']:\n",
    "        if val[3] not in OP_LIST and \"'\" not in val[3]:\n",
    "            OP_LIST.append(val[3])\n",
    "\n",
    "y_hat = []\n",
    "y = []\n",
    "\n",
    "TODAY = datetime.strptime('2/03/2020', '%d/%m/%Y')\n",
    "for op in OP_LIST:\n",
    "    if \"'\" not in op:\n",
    "        arima = Arima2(op, TODAY)\n",
    "        pred, val = arima.predict()\n",
    "        y_hat += pred\n",
    "        y += val"
   ]
  },
  {
   "cell_type": "code",
   "execution_count": null,
   "metadata": {},
   "outputs": [],
   "source": [
    "errs = []\n",
    "for i in range(len(y)):\n",
    "    errs.append(\n",
    "        np.abs((y[i] - y_hat[i]))\n",
    "    )\n",
    "errs.sort()\n",
    "\n",
    "temp_err = []\n",
    "for i in errs:\n",
    "    if i<100:\n",
    "        temp_err.append(i)\n",
    "\n",
    "rcParams.update({'figure.autolayout': True})\n",
    "rcParams.update({'font.size': 12})\n",
    "f, (ax, ax2) = plt.subplots(2, 1, gridspec_kw = {'height_ratios':[1, 4]}, sharex=True)\n",
    "\n",
    "ax2.hist(errs, 40, rwidth=.7, color='steelblue')\n",
    "ax.hist(errs, 40, rwidth=.7, color='steelblue')\n",
    "\n",
    "ax2.set_ylim(0, 50)\n",
    "ax.set_ylim(750, 1200)\n",
    "\n",
    "ax.spines['bottom'].set_visible(False)\n",
    "ax2.spines['top'].set_visible(False)\n",
    "ax.xaxis.tick_top()\n",
    "\n",
    "ax.grid()\n",
    "ax2.grid()\n",
    "ax2.set_ylabel('Number of Occurrences')\n",
    "ax2.set_xlabel('Absolute Point-wise Forecasting Error')\n",
    "if SAVE:\n",
    "    plt.savefig('../fig/pointerr.png', transparent=True)"
   ]
  },
  {
   "cell_type": "markdown",
   "metadata": {},
   "source": [
    "## Genetic: Generations and Profits Distributions"
   ]
  },
  {
   "cell_type": "code",
   "execution_count": null,
   "metadata": {
    "scrolled": true
   },
   "outputs": [],
   "source": [
    "data = pd.read_csv('../data/predictedOps.csv').drop(columns=['Unnamed: 0']).set_index('op')\n",
    "gen2 = pd.read_csv('../data/gen2.csv')\n",
    "gen1 = pd.read_csv('../data/gen1.csv')\n",
    "\n",
    "rcParams.update({'figure.autolayout': True})\n",
    "rcParams.update({'font.size': 12})\n",
    "bins = np.arange(min(gen1['gen1']), max(gen1['gen1']), 30)\n",
    "\n",
    "plt.hist(gen2['gen2'], bins=bins, color = ['steelblue'], rwidth=.7)\n",
    "\n",
    "plt.xticks(bins, rotation=90)\n",
    "plt.ylim(0,22)\n",
    "plt.xlim(0, 970)\n",
    "plt.xlabel('Number of Generations')\n",
    "plt.ylabel('Number of Occurrences')\n",
    "plt.legend()\n",
    "if SAVE:\n",
    "    plt.savefig('../fig/geneticGenerations.png', transparent = True)"
   ]
  },
  {
   "cell_type": "code",
   "execution_count": null,
   "metadata": {},
   "outputs": [],
   "source": [
    "rcParams.update({'figure.autolayout': True})\n",
    "rcParams.update({'font.size': 12})\n",
    "rcParams.update({'figure.autolayout': True})\n",
    "bins = np.arange(min(gen1['prof1']), max(gen1['prof1']), 4000)\n",
    "\n",
    "#plt.hist(gen2['prof2'], bins=bins, color = 'steelblue', rwidth=.8)\n",
    "\n",
    "vals = gen2['prof2'].copy().values\n",
    "vals.sort()\n",
    "vals = (vals - min(vals))/(max(vals)-min(vals))*100\n",
    "plt.plot(vals, linewidth=2)\n",
    "plt.grid(linestyle='-.')\n",
    "plt.xlabel('Number of Operators')\n",
    "plt.ylabel('Normalized Profit [%]')\n",
    "if SAVE:\n",
    "    plt.savefig('../fig/geneticProfits.png', transparent = True)"
   ]
  },
  {
   "cell_type": "markdown",
   "metadata": {},
   "source": [
    "# 3) Case Study\n",
    "## Fitness Trend"
   ]
  },
  {
   "cell_type": "code",
   "execution_count": null,
   "metadata": {},
   "outputs": [],
   "source": [
    "profit = []\n",
    "genetic = Genetic('IREN ENERGIA SPA', data, TODAY, 8.0)\n",
    "p, _, o = genetic.run()\n",
    "profit.append(p)"
   ]
  },
  {
   "cell_type": "code",
   "execution_count": null,
   "metadata": {},
   "outputs": [],
   "source": [
    "profit2 = profit[0].copy()\n",
    "for i in range(len(profit2)):\n",
    "    profit2[i] = profit2[i]/1000\n",
    "\n",
    "rcParams.update({'figure.autolayout': True})\n",
    "rcParams.update({'font.size': 13})\n",
    "plt.plot(profit2)\n",
    "plt.fill_between(range(len(profit2)), profit2, alpha=.2)\n",
    "plt.xlim(0, len(profit2))\n",
    "plt.ylim(0, 55)\n",
    "plt.xlabel('Generations')\n",
    "plt.ylabel('Fitness Value [K\\u20ac]')\n",
    "plt.grid(linestyle='-.')\n",
    "if SAVE:\n",
    "    plt.savefig('../fig/irenprofit.png', transparent=True)"
   ]
  },
  {
   "cell_type": "markdown",
   "metadata": {},
   "source": [
    "## Delta Strategy"
   ]
  },
  {
   "cell_type": "code",
   "execution_count": null,
   "metadata": {},
   "outputs": [],
   "source": [
    "data_f = data.loc['IREN ENERGIA SPA']\n",
    "sol = _[0][0]\n",
    "delta = []\n",
    "delta.append(-data_f['MGPpO']+sol[0])\n",
    "delta.append(-(data_f['MGPqO']-sol[1])/1000)\n",
    "delta.append(-data_f['MGPpD']+sol[2])\n",
    "delta.append(-(data_f['MGPqD']-sol[3])/1000)\n",
    "delta.append(-data_f['MIpO']+sol[4])\n",
    "delta.append(-(data_f['MIqO']-sol[5])/1000)\n",
    "delta.append(-data_f['MIpD']+sol[6])\n",
    "delta.append(-(data_f['MIqD']-sol[7])/1000)\n",
    "delta.append(-data_f['MSDpO']+sol[8])\n",
    "delta.append(-(data_f['MSDqO']-sol[9])/1000)\n",
    "delta.append(-data_f['MSDpD']+sol[10])\n",
    "delta.append(-(data_f['MSDqD']-sol[11])/1000)\n",
    "sol_o = [\n",
    "    data_f['MGPpO'], data_f['MGPqO'], data_f['MGPpD'], \n",
    "    data_f['MGPqD'], data_f['MIpO'], data_f['MIqO'],\n",
    "    data_f['MIpD'], data_f['MIqD'], data_f['MSDpO'],\n",
    "    data_f['MSDqO'], data_f['MSDpD'], data_f['MSDqD']\n",
    "]\n",
    "\n",
    "rcParams.update({'figure.autolayout': True})\n",
    "rcParams.update({'font.size': 13})\n",
    "fig, ax = plt.subplots(figsize=(6.4, 4.8))\n",
    "x = np.arange(len(delta))\n",
    "\n",
    "bar_width = 0.4\n",
    "ax2 = ax.twinx() \n",
    "\n",
    "cnt = 0\n",
    "for i in np.arange(0,len(delta), 2):\n",
    "    ax.bar(x[i]+cnt, delta[i],\n",
    "        width=.8, color='steelblue')\n",
    "\n",
    "    ax2.bar(x[i+1]+cnt, delta[i+1],\n",
    "        width=.8, color='brown')\n",
    "\n",
    "    cnt+=2.5\n",
    "plt.grid(linestyle='-.')    \n",
    "tick = np.arange(0.5,25,4.5)  \n",
    "plt.xticks(tick)\n",
    "ax2.set_ylim(-30, 30)\n",
    "ax.set_ylim(-270, 270)\n",
    "ax.set_ylabel('$\\Delta$ Bidded Prices [\\u20ac/MWh]')\n",
    "ax2.set_ylabel('$\\Delta$ Bidded Quantities [GWh]')\n",
    "plt.xticks(tick, labels=[\n",
    "    'MGP\\nOFF', 'MGP\\nDEM', 'MI\\nOFF', 'MI\\nDEM', 'MSD\\nOFF', 'MSD\\nDEM'])    \n",
    "ax.legend(['Prices'],loc='lower left', bbox_to_anchor= (.0, 1.01), ncol=2,\n",
    "            borderaxespad=0, frameon=False)\n",
    "ax2.legend(['Quantities'],loc='lower left', bbox_to_anchor= (.3, 1.01), ncol=2,\n",
    "            borderaxespad=0, frameon=False)\n",
    "if SAVE:\n",
    "    plt.savefig('../fig/casestudy.png', transparent=True)"
   ]
  }
 ],
 "metadata": {
  "kernelspec": {
   "display_name": "Python 3.6.9 64-bit",
   "language": "python",
   "name": "python36964bit783c28c53b0e437ca95db3440c52cd20"
  },
  "language_info": {
   "codemirror_mode": {
    "name": "ipython",
    "version": 3
   },
   "file_extension": ".py",
   "mimetype": "text/x-python",
   "name": "python",
   "nbconvert_exporter": "python",
   "pygments_lexer": "ipython3",
   "version": "3.6.9"
  }
 },
 "nbformat": 4,
 "nbformat_minor": 4
}