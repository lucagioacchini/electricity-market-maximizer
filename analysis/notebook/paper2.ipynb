{
 "cells": [
  {
   "cell_type": "markdown",
   "metadata": {},
   "source": [
    "# Main Codes used to obtain the plots of Paper 2"
   ]
  },
  {
   "cell_type": "code",
   "execution_count": null,
   "metadata": {},
   "outputs": [],
   "source": [
    "import pandas as pd\n",
    "import sys\n",
    "sys.path.append(\"..\")\n",
    "from src.profit import *\n",
    "import pandas as pd \n",
    "from src.genetic2 import Genetic\n",
    "from influxdb import InfluxDBClient\n",
    "from datetime import datetime\n",
    "from dateutil import relativedelta\n",
    "import matplotlib.pyplot as plt\n",
    "from matplotlib import rcParams\n",
    "import numpy as np\n",
    "from src.arimaPaper import Arima"
   ]
  },
  {
   "cell_type": "markdown",
   "metadata": {},
   "source": [
    "Retrieve the production limits from the operator"
   ]
  },
  {
   "cell_type": "code",
   "execution_count": null,
   "metadata": {},
   "outputs": [],
   "source": [
    "data = pd.read_csv('../data/Generator.csv')\n",
    "\n",
    "limits = {}\n",
    "for i in range(data.shape[0]):\n",
    "    op = data.iloc[i]['operator']\n",
    "    op = op.split(\"\\'\")\n",
    "    try:\n",
    "        if ',' in op[2]:\n",
    "            if 'Bilateralista' not in op[3] and 'GAS RIMINI SPA' not in op[3]:\n",
    "                if op[3].upper() not in limits:\n",
    "                    limits[op[3].upper()] = 0\n",
    "                limits[op[3].upper()] += data.iloc[i]['max_quantity']\n",
    "    except:\n",
    "        pass\n",
    "    if '\"]' in op[1]:\n",
    "        op[1] = op[1].replace('\"]', '')\n",
    "    if 'Bilateralista' not in op[1] and 'GAS RIMINI SPA' not in op[1]:\n",
    "        if op[1].upper() not in limits:\n",
    "            limits[op[1].upper()] = 0\n",
    "        limits[op[1].upper()] += data.iloc[i]['max_quantity']\n",
    "        \n",
    "limits['GAS RIMINI SPA'] = 0\n",
    "for i in range(data.shape[0]):\n",
    "    if 'GAS RIMINI SPA' in data.iloc[i]['operator']:\n",
    "        limits['GAS RIMINI SPA'] += data.iloc[i]['max_quantity']\n",
    "\n",
    "data = pd.read_csv('../data/predictedOps.csv').drop(columns=['Unnamed: 0']).set_index('op')\n",
    "\n",
    "forecasted = []\n",
    "for i in data.index:\n",
    "    forecasted.append(i)\n",
    "\n",
    "drop = []\n",
    "for op in limits:\n",
    "    if op not in forecasted:\n",
    "        drop.append(op)\n",
    "    else:\n",
    "        forecasted.remove(op)\n",
    "\n",
    "for op in drop:\n",
    "    temp = op.split(' ')\n",
    "    for di in forecasted:\n",
    "        if temp[0] in di:\n",
    "            inp = input(f'{op}->{di}')\n",
    "            if inp == 'y':\n",
    "                limits[op]\n",
    "                limits[di] = limits[op]\n",
    "                del limits[op]   \n",
    "\n",
    "ops = []\n",
    "vals = []\n",
    "for op in limits:\n",
    "    ops.append(op)\n",
    "    vals.append(limits[op])\n",
    "to_df = {\n",
    "    'op':ops,\n",
    "    'max':vals\n",
    "}\n",
    "pd.DataFrame(to_df).set_index('op').to_csv('../data/gencos.csv')"
   ]
  },
  {
   "cell_type": "markdown",
   "metadata": {},
   "source": [
    "Predict the original value"
   ]
  },
  {
   "cell_type": "code",
   "execution_count": null,
   "metadata": {},
   "outputs": [],
   "source": [
    "START = '2020/03/04'\n",
    "OP_LIST = []\n",
    "\n",
    "client = InfluxDBClient('localhost', 8086, 'root', 'root', 'PublicBids')\n",
    "\n",
    "for market in ['MGP', 'MI', 'MSD']:\n",
    "    res = client.query(f\"SELECT * FROM demand{market} WHERE time >= {START}\").raw\n",
    "    for val in res['series'][0]['values']:\n",
    "        if val[3] not in OP_LIST and \"'\" not in val[3]:\n",
    "            OP_LIST.append(val[3])\n",
    "\n",
    "    res = client.query(f\"SELECT * FROM supply{market} WHERE time >= {START}\").raw\n",
    "    for val in res['series'][0]['values']:\n",
    "        if val[3] not in OP_LIST and \"'\" not in val[3]:\n",
    "            OP_LIST.append(val[3])\n",
    "pred = {\n",
    "    'op':[],\n",
    "    'MGPpO':[],\n",
    "    'MGPqO':[],\n",
    "    'MGPpD':[],\n",
    "    'MGPqD':[],\n",
    "    'MIpO':[],\n",
    "    'MIqO':[],\n",
    "    'MIpD':[],\n",
    "    'MIqD':[],\n",
    "    'MSDpO':[],\n",
    "    'MSDqO':[],\n",
    "    'MSDpD':[],\n",
    "    'MSDqD':[]\n",
    "}\n",
    "\n",
    "for op in OP_LIST:\n",
    "    prediction = Arima(op, TODAY, client).predict()\n",
    "    pred['op'].append(op)\n",
    "    pred['MGPpO'].append(prediction[0])\n",
    "    pred['MGPqO'].append(prediction[1])\n",
    "    pred['MGPpD'].append(prediction[2])\n",
    "    pred['MGPqD'].append(prediction[3])\n",
    "    pred['MIpO'].append(prediction[4])\n",
    "    pred['MIqO'].append(prediction[5])\n",
    "    pred['MIpD'].append(prediction[6])\n",
    "    pred['MIqD'].append(prediction[7])\n",
    "    pred['MSDpO'].append(prediction[8])\n",
    "    pred['MSDqO'].append(prediction[9])\n",
    "    pred['MSDpD'].append(prediction[10])\n",
    "    pred['MSDqD'].append(prediction[11])"
   ]
  },
  {
   "cell_type": "markdown",
   "metadata": {},
   "source": [
    "Find the smallest and the greatest operators"
   ]
  },
  {
   "cell_type": "code",
   "execution_count": null,
   "metadata": {
    "scrolled": true
   },
   "outputs": [],
   "source": [
    "data = pd.read_csv('../data/paperPred.csv').set_index('op')\n",
    "limits = pd.read_csv('../data/gencos.csv').set_index('op')\n",
    "\n",
    "min_val = 99999999\n",
    "max_val = 0\n",
    "\n",
    "for op in limits.index:\n",
    "    if limits.loc[op]['max']<=min_val:\n",
    "        min_val = limits.loc[op]['max']\n",
    "        min_op = op\n",
    "    if limits.loc[op]['max']>=max_val and limits.loc[op]['max']<191256490.77:\n",
    "        max_val = limits.loc[op]['max']\n",
    "        max_op = op\n",
    "    if limits.loc[op]['max']>=191256490.77:\n",
    "        limits = limits.drop(op)\n",
    "\n",
    "print('Maximum')\n",
    "print(max_op, max_val)\n",
    "print('Minimum')\n",
    "print(min_op, min_val)"
   ]
  },
  {
   "cell_type": "markdown",
   "metadata": {},
   "source": [
    "# Case Study: Smallest Operator"
   ]
  },
  {
   "cell_type": "code",
   "execution_count": null,
   "metadata": {
    "scrolled": false
   },
   "outputs": [],
   "source": [
    "ga = Genetic(min_op, data, '2020-04-05T00:00:00Z', min_val)\n",
    "p, s, _ = ga.run()"
   ]
  },
  {
   "cell_type": "markdown",
   "metadata": {},
   "source": [
    "## $\\Delta$ Profits"
   ]
  },
  {
   "cell_type": "code",
   "execution_count": null,
   "metadata": {},
   "outputs": [],
   "source": [
    "p1 = getProfit(data, min_op, '2020-04-05T00:00:00Z')\n",
    "p1"
   ]
  },
  {
   "cell_type": "code",
   "execution_count": null,
   "metadata": {},
   "outputs": [],
   "source": [
    "p2 = getNewProfit(data, min_op, '2020-04-05T00:00:00Z', s[0][0])\n",
    "p2"
   ]
  },
  {
   "cell_type": "code",
   "execution_count": null,
   "metadata": {},
   "outputs": [],
   "source": [
    "d_mgp_o = p1[0]/p1[3]*100\n",
    "d_mgp_n = p2[0]/p2[3]*100\n",
    "d_mi_o = p1[1]/p1[3]*100\n",
    "d_mi_n = p2[1]/p2[3]*100\n",
    "d_msd_o = p1[2]/p1[3]*100\n",
    "d_msd_n = p2[2]/p2[3]*100\n",
    "\n",
    "print('Profit Percentage Change')\n",
    "print('MGP')\n",
    "print(round(d_mgp_o,2))\n",
    "print(round(d_mgp_n,2))\n",
    "print('MI')\n",
    "print(round(d_mi_o,2))\n",
    "print(round(d_mi_n,2))\n",
    "print('MSD')\n",
    "print(round(d_msd_o,2))\n",
    "print(round(d_msd_n,2))"
   ]
  },
  {
   "cell_type": "markdown",
   "metadata": {},
   "source": [
    "## $\\Delta$ Resources Allocation"
   ]
  },
  {
   "cell_type": "code",
   "execution_count": null,
   "metadata": {},
   "outputs": [],
   "source": [
    "data_f = data.loc[min_op]\n",
    "sol = s[0][0]\n",
    "delta = []\n",
    "delta.append(sol[0]-data_f['MGPpO'])\n",
    "delta.append((sol[1]-data_f['MGPqO']))\n",
    "delta.append(sol[2]-data_f['MGPpD'])\n",
    "delta.append((sol[3]-data_f['MGPqD']))\n",
    "delta.append(sol[4]-data_f['MIpO'])\n",
    "delta.append((sol[5]-data_f['MIqO']))\n",
    "delta.append(sol[6]-data_f['MIpD'])\n",
    "delta.append((sol[7]-data_f['MIqD']))\n",
    "delta.append(sol[8]-data_f['MSDpO'])\n",
    "delta.append((sol[9]-data_f['MSDqO']))\n",
    "delta.append(sol[10]-data_f['MSDpD'])\n",
    "delta.append((sol[11]-data_f['MSDqD']))\n",
    "sol_o = [\n",
    "    data_f['MGPpO'], data_f['MGPqO'], data_f['MGPpD'], \n",
    "    data_f['MGPqD'], data_f['MIpO'], data_f['MIqO'],\n",
    "    data_f['MIpD'], data_f['MIqD'], data_f['MSDpO'],\n",
    "    data_f['MSDqO'], data_f['MSDpD'], data_f['MSDqD']\n",
    "]\n",
    "\n",
    "rcParams.update({'figure.autolayout': True})\n",
    "rcParams.update({'font.size': 13})\n",
    "fig, ax = plt.subplots(figsize=(6.4, 4.8))\n",
    "x = np.arange(len(delta))\n",
    "\n",
    "bar_width = 0.4\n",
    "ax2 = ax.twinx() \n",
    "\n",
    "cnt = 0\n",
    "for i in np.arange(0,len(delta), 2):\n",
    "    ax.bar(x[i]+cnt, delta[i],\n",
    "        width=.8, color='steelblue')\n",
    "\n",
    "    ax2.bar(x[i+1]+cnt, delta[i+1],\n",
    "        width=.8, color='brown')\n",
    "\n",
    "    cnt+=2.5\n",
    "\n",
    "p = []\n",
    "q = []\n",
    "for i in range(len(delta)):\n",
    "    if i%2 == 0:\n",
    "        p.append(delta[i])\n",
    "    else:\n",
    "        q.append(delta[i])\n",
    "        \n",
    "plt.grid(linestyle='-.')    \n",
    "tick = np.arange(0.5,25,4.5)  \n",
    "plt.xticks(tick)\n",
    "ax2.set_ylim(0, max(q)+1)\n",
    "ax.set_ylim(0, max(p)+1)\n",
    "ax.set_ylabel('$\\Delta$ Bidded Prices [\\u20ac/MWh]')\n",
    "ax2.set_ylabel('$\\Delta$ Bidded Quantities [MWh]')\n",
    "plt.xticks(tick, labels=[\n",
    "    'MGP\\nOFF', 'MGP\\nDEM', 'MI\\nOFF', 'MI\\nDEM', 'MSD\\nOFF', 'MSD\\nDEM'])    \n",
    "ax.legend(['Prices'],loc='lower left', bbox_to_anchor= (.0, 1.01), ncol=2,\n",
    "            borderaxespad=0, frameon=False)\n",
    "ax2.legend(['Quantities'],loc='lower left', bbox_to_anchor= (.3, 1.01), ncol=2,\n",
    "            borderaxespad=0, frameon=False)\n",
    "plt.savefig('smallest_resource.png', transparent=True)"
   ]
  },
  {
   "cell_type": "markdown",
   "metadata": {},
   "source": [
    "# Case Study: Greatest Operator"
   ]
  },
  {
   "cell_type": "code",
   "execution_count": null,
   "metadata": {
    "scrolled": true
   },
   "outputs": [],
   "source": [
    "ga = Genetic(max_op, data, '2020-04-05T00:00:00Z', max_val)\n",
    "p, s, _= ga.run()"
   ]
  },
  {
   "cell_type": "markdown",
   "metadata": {},
   "source": [
    "## $\\Delta$ Profits"
   ]
  },
  {
   "cell_type": "code",
   "execution_count": null,
   "metadata": {},
   "outputs": [],
   "source": [
    "p1 = getProfit(data, max_op, '2020-04-05T00:00:00Z')\n",
    "p1"
   ]
  },
  {
   "cell_type": "code",
   "execution_count": null,
   "metadata": {},
   "outputs": [],
   "source": [
    "p2 = getNewProfit(data, max_op, '2020-04-05T00:00:00Z', s[0][0])\n",
    "p2"
   ]
  },
  {
   "cell_type": "code",
   "execution_count": null,
   "metadata": {},
   "outputs": [],
   "source": [
    "d_mgp_o = p1[0]/p1[3]*100\n",
    "d_mgp_n = p2[0]/p2[3]*100\n",
    "d_mi_o = p1[1]/p1[3]*100\n",
    "d_mi_n = p2[1]/p2[3]*100\n",
    "d_msd_o = p1[2]/p1[3]*100\n",
    "d_msd_n = p2[2]/p2[3]*100\n",
    "\n",
    "print('Profit Percentage Change')\n",
    "print('MGP')\n",
    "print(round(d_mgp_o,2))\n",
    "print(round(d_mgp_n,2))\n",
    "print('MI')\n",
    "print(round(d_mi_o,2))\n",
    "print(round(d_mi_n,2))\n",
    "print('MSD')\n",
    "print(round(d_msd_o,2))\n",
    "print(round(d_msd_n,2))"
   ]
  },
  {
   "cell_type": "markdown",
   "metadata": {},
   "source": [
    "## $\\Delta$ Resources Allocation"
   ]
  },
  {
   "cell_type": "code",
   "execution_count": null,
   "metadata": {
    "scrolled": false
   },
   "outputs": [],
   "source": [
    "data_f = data.loc[max_op]\n",
    "sol = s[0][0]\n",
    "delta = []\n",
    "delta.append(sol[0]-data_f['MGPpO'])\n",
    "delta.append((sol[1]-data_f['MGPqO']))\n",
    "delta.append(sol[2]-data_f['MGPpD'])\n",
    "delta.append((sol[3]-data_f['MGPqD']))\n",
    "delta.append(sol[4]-data_f['MIpO'])\n",
    "delta.append((sol[5]-data_f['MIqO']))\n",
    "delta.append(sol[6]-data_f['MIpD'])\n",
    "delta.append((sol[7]-data_f['MIqD']))\n",
    "delta.append(sol[8]-data_f['MSDpO'])\n",
    "delta.append((sol[9]-data_f['MSDqO']))\n",
    "delta.append(sol[10]-data_f['MSDpD'])\n",
    "delta.append((sol[11]-data_f['MSDqD']))\n",
    "sol_o = [\n",
    "    data_f['MGPpO'], data_f['MGPqO'], data_f['MGPpD'], \n",
    "    data_f['MGPqD'], data_f['MIpO'], data_f['MIqO'],\n",
    "    data_f['MIpD'], data_f['MIqD'], data_f['MSDpO'],\n",
    "    data_f['MSDqO'], data_f['MSDpD'], data_f['MSDqD']\n",
    "]\n",
    "\n",
    "rcParams.update({'figure.autolayout': True})\n",
    "rcParams.update({'font.size': 13})\n",
    "fig, ax = plt.subplots(figsize=(6.4, 4.8))\n",
    "x = np.arange(len(delta))\n",
    "\n",
    "bar_width = 0.4\n",
    "ax2 = ax.twinx() \n",
    "\n",
    "cnt = 0\n",
    "for i in np.arange(0,len(delta), 2):\n",
    "    ax.bar(x[i]+cnt, delta[i],\n",
    "        width=.8, color='steelblue')\n",
    "\n",
    "    ax2.bar(x[i+1]+cnt, delta[i+1],\n",
    "        width=.8, color='brown')\n",
    "\n",
    "    cnt+=2.5\n",
    "\n",
    "p = []\n",
    "q = []\n",
    "for i in range(len(delta)):\n",
    "    if i%2 == 0:\n",
    "        p.append(delta[i])\n",
    "    else:\n",
    "        q.append(delta[i])\n",
    "lim_p = max(abs(min(p)), abs(max(p)))\n",
    "lim_q = max(abs(min(q)), abs(max(q)))\n",
    "plt.grid(linestyle='-.')    \n",
    "tick = np.arange(0.5,25,4.5)  \n",
    "plt.xticks(tick)\n",
    "ax2.set_ylim(-lim_q-1000, lim_q+1000)\n",
    "ax.set_ylim(-lim_p-10, lim_p+10)\n",
    "ax.set_ylabel('$\\Delta$ Bidded Prices [\\u20ac/MWh]')\n",
    "ax2.set_ylabel('$\\Delta$ Bidded Quantities [MWh]')\n",
    "plt.xticks(tick, labels=[\n",
    "    'MGP\\nOFF', 'MGP\\nDEM', 'MI\\nOFF', 'MI\\nDEM', 'MSD\\nOFF', 'MSD\\nDEM'])    \n",
    "ax.legend(['Prices'],loc='lower left', bbox_to_anchor= (.0, 1.01), ncol=2,\n",
    "            borderaxespad=0, frameon=False)\n",
    "ax2.legend(['Quantities'],loc='lower left', bbox_to_anchor= (.3, 1.01), ncol=2,\n",
    "            borderaxespad=0, frameon=False)\n",
    "plt.savefig('greatest_resource.png', transparent=True)"
   ]
  },
  {
   "cell_type": "markdown",
   "metadata": {},
   "source": [
    "# Case Study: Iren for paper 1"
   ]
  },
  {
   "cell_type": "code",
   "execution_count": null,
   "metadata": {
    "scrolled": true
   },
   "outputs": [],
   "source": [
    "ga = Genetic('IREN ENERGIA SPA', data, '2020-04-05T00:00:00Z', 116543.59999999999)\n",
    "p, s, _= ga.run()"
   ]
  },
  {
   "cell_type": "markdown",
   "metadata": {},
   "source": [
    "## $\\Delta$ Profits"
   ]
  },
  {
   "cell_type": "code",
   "execution_count": null,
   "metadata": {},
   "outputs": [],
   "source": [
    "p1 = getProfit(data, 'IREN ENERGIA SPA', '2020-04-05T00:00:00Z')\n",
    "p1"
   ]
  },
  {
   "cell_type": "code",
   "execution_count": null,
   "metadata": {},
   "outputs": [],
   "source": [
    "p2 = getNewProfit(data, 'IREN ENERGIA SPA', '2020-04-05T00:00:00Z', s[0][0])\n",
    "p2"
   ]
  },
  {
   "cell_type": "code",
   "execution_count": null,
   "metadata": {},
   "outputs": [],
   "source": [
    "if p1[0] == 0.0:\n",
    "    d_mgp = (p2[0] - p1[0])/1*100\n",
    "else:\n",
    "    d_mgp = (p2[0] - p1[0])/abs(p1[0])*100\n",
    "if p1[1] == 0.0:\n",
    "    d_mi = (p2[1] - p1[1])/1*100\n",
    "else:\n",
    "    d_mi = (p2[1] - p1[1])/abs(p1[1])*100\n",
    "if p1[2] == 0.0:\n",
    "    d_msd = (p2[2] - p1[2])/1*100\n",
    "else:\n",
    "    d_msd = (p2[2] - p1[2])/abs(p1[2])*100\n",
    "if p1[3] == 0.0:\n",
    "    d_tot = (p2[3] - p1[3])/1*100\n",
    "else:\n",
    "    d_tot = (p2[3] - p1[3])/abs(p1[3])*100\n",
    "\n",
    "print('Profit Percentage Change')\n",
    "print(f'MGP: {round(d_mgp,2)}%')\n",
    "print(f'MI:  {round(d_mi,2)}%')\n",
    "print(f'MSD: {round(d_msd,2)}%')\n",
    "print(f'Tot: {round(d_tot,2)}%')"
   ]
  },
  {
   "cell_type": "markdown",
   "metadata": {},
   "source": [
    "## $\\Delta$ Resources Allocation"
   ]
  },
  {
   "cell_type": "code",
   "execution_count": null,
   "metadata": {
    "scrolled": true
   },
   "outputs": [],
   "source": [
    "data_f = data.loc[max_op]\n",
    "sol = s[0][0]\n",
    "delta = []\n",
    "delta.append(sol[0]-data_f['MGPpO'])\n",
    "delta.append((sol[1]-data_f['MGPqO']))\n",
    "delta.append(sol[2]-data_f['MGPpD'])\n",
    "delta.append((sol[3]-data_f['MGPqD']))\n",
    "delta.append(sol[4]-data_f['MIpO'])\n",
    "delta.append((sol[5]-data_f['MIqO']))\n",
    "delta.append(sol[6]-data_f['MIpD'])\n",
    "delta.append((sol[7]-data_f['MIqD']))\n",
    "delta.append(sol[8]-data_f['MSDpO'])\n",
    "delta.append((sol[9]-data_f['MSDqO']))\n",
    "delta.append(sol[10]-data_f['MSDpD'])\n",
    "delta.append((sol[11]-data_f['MSDqD']))\n",
    "sol_o = [\n",
    "    data_f['MGPpO'], data_f['MGPqO'], data_f['MGPpD'], \n",
    "    data_f['MGPqD'], data_f['MIpO'], data_f['MIqO'],\n",
    "    data_f['MIpD'], data_f['MIqD'], data_f['MSDpO'],\n",
    "    data_f['MSDqO'], data_f['MSDpD'], data_f['MSDqD']\n",
    "]\n",
    "\n",
    "rcParams.update({'figure.autolayout': True})\n",
    "rcParams.update({'font.size': 13})\n",
    "fig, ax = plt.subplots(figsize=(6.4, 4.8))\n",
    "x = np.arange(len(delta))\n",
    "\n",
    "bar_width = 0.4\n",
    "ax2 = ax.twinx() \n",
    "\n",
    "cnt = 0\n",
    "for i in np.arange(0,len(delta), 2):\n",
    "    ax.bar(x[i]+cnt, delta[i],\n",
    "        width=.8, color='steelblue')\n",
    "\n",
    "    ax2.bar(x[i+1]+cnt, delta[i+1],\n",
    "        width=.8, color='brown')\n",
    "\n",
    "    cnt+=2.5\n",
    "\n",
    "p = []\n",
    "q = []\n",
    "for i in range(len(delta)):\n",
    "    if i%2 == 0:\n",
    "        p.append(delta[i])\n",
    "    else:\n",
    "        q.append(delta[i])\n",
    "lim_p = max(abs(min(p)), abs(max(p)))\n",
    "lim_q = max(abs(min(q)), abs(max(q)))\n",
    "plt.grid(linestyle='-.')    \n",
    "tick = np.arange(0.5,25,4.5)  \n",
    "plt.xticks(tick)\n",
    "ax2.set_ylim(-lim_q-1000, lim_q+1000)\n",
    "ax.set_ylim(-lim_p-10, lim_p+10)\n",
    "ax.set_ylabel('$\\Delta$ Bidded Prices [\\u20ac/MWh]')\n",
    "ax2.set_ylabel('$\\Delta$ Bidded Quantities [MWh]')\n",
    "plt.xticks(tick, labels=[\n",
    "    'MGP\\nOFF', 'MGP\\nDEM', 'MI\\nOFF', 'MI\\nDEM', 'MSD\\nOFF', 'MSD\\nDEM'])    \n",
    "ax.legend(['Prices'],loc='lower left', bbox_to_anchor= (.0, 1.01), ncol=2,\n",
    "            borderaxespad=0, frameon=False)\n",
    "ax2.legend(['Quantities'],loc='lower left', bbox_to_anchor= (.3, 1.01), ncol=2,\n",
    "            borderaxespad=0, frameon=False)"
   ]
  },
  {
   "cell_type": "markdown",
   "metadata": {},
   "source": [
    "# Case Study: All the Operators"
   ]
  },
  {
   "cell_type": "code",
   "execution_count": null,
   "metadata": {},
   "outputs": [],
   "source": [
    "profs = []\n",
    "sols = []\n",
    "ops = []\n",
    "for op in limits.index:\n",
    "    try:\n",
    "        ga = Genetic(op, data, '2020-04-05T00:00:00Z', limits.loc[op]['max'])\n",
    "        p, s, _= ga.run()\n",
    "        profs.append(p)\n",
    "        sols.append(s)\n",
    "        ops.append(op)\n",
    "    except:\n",
    "        pass"
   ]
  },
  {
   "cell_type": "code",
   "execution_count": null,
   "metadata": {},
   "outputs": [],
   "source": [
    "new_sol = []\n",
    "for i in sols:\n",
    "    new_sol.append(sols[0][0][0])\n",
    "to_df = {\n",
    "    'op':ops,\n",
    "    'sol':new_sol\n",
    "}\n",
    "df = pd.DataFrame(to_df).set_index('op')\n",
    "df.to_csv('../data/analysis.csv')"
   ]
  },
  {
   "cell_type": "code",
   "execution_count": null,
   "metadata": {},
   "outputs": [],
   "source": [
    "old_p = []\n",
    "new_p = []\n",
    "for i in df.index:\n",
    "    old_p.append(getProfit(data, i, '2020-04-05T00:00:00Z'))\n",
    "    new_p.append(getNewProfit(data, i, '2020-04-05T00:00:00Z', df.loc[i]['sol']))"
   ]
  },
  {
   "cell_type": "code",
   "execution_count": null,
   "metadata": {},
   "outputs": [],
   "source": [
    "old_m = []\n",
    "new_m = []\n",
    "mgp_old_m = []\n",
    "mgp_new_m = []\n",
    "mi_old_m = []\n",
    "mi_new_m = []\n",
    "msd_old_m = []\n",
    "msd_new_m = []\n",
    "for i in range(len(old_p)):\n",
    "    if old_p[i][3] != 0.0:\n",
    "        mgp_old = old_p[i][0]/old_p[i][3]*100\n",
    "        mgp_new = new_p[i][0]/new_p[i][3]*100\n",
    "        mgp_old_m.append(mgp_old)\n",
    "        mgp_new_m.append(mgp_new)\n",
    "        \n",
    "        mi_old = old_p[i][1]/old_p[i][3]*100\n",
    "        mi_new = new_p[i][1]/new_p[i][3]*100\n",
    "        mi_old_m.append(mi_old)\n",
    "        mi_new_m.append(mi_new)\n",
    "    \n",
    "        msd_old = old_p[i][2]/old_p[i][3]*100\n",
    "        msd_new = new_p[i][2]/new_p[i][3]*100\n",
    "        msd_old_m.append(msd_old)\n",
    "        msd_new_m.append(msd_new)\n",
    "        \n",
    "        old_m.append(old_p[i][3])\n",
    "        new_m.append(new_p[i][3])\n",
    "        \n",
    "print('MGP')\n",
    "print(round(np.mean(mgp_old_m), 2))      \n",
    "print(round(np.mean(mgp_new_m), 2))\n",
    "\n",
    "print('MI')\n",
    "print(round(np.mean(mi_old_m), 2))      \n",
    "print(round(np.mean(mi_new_m), 2))\n",
    "\n",
    "print('MSD')\n",
    "print(round(np.mean(msd_old_m), 2))      \n",
    "print(round(np.mean(msd_new_m), 2))\n",
    "\n",
    "print(np.mean(old_m))\n",
    "print(np.mean(new_m))"
   ]
  },
  {
   "cell_type": "code",
   "execution_count": null,
   "metadata": {},
   "outputs": [],
   "source": [
    "temp_delta = [\n",
    "    [],[],[],[],[],[],[],[],[],[],[],[]\n",
    "]\n",
    "for op in df.index:\n",
    "    data_f = data.loc[op]\n",
    "    sol = df.loc[op]['sol']\n",
    "    temp_delta[0].append(sol[0]-data_f['MGPpO'])\n",
    "    temp_delta[1].append((sol[1]-data_f['MGPqO']))\n",
    "    temp_delta[2].append(sol[2]-data_f['MGPpD'])\n",
    "    temp_delta[3].append((sol[3]-data_f['MGPqD']))\n",
    "    temp_delta[4].append(sol[4]-data_f['MIpO'])\n",
    "    temp_delta[5].append((sol[5]-data_f['MIqO']))\n",
    "    temp_delta[6].append(sol[6]-data_f['MIpD'])\n",
    "    temp_delta[7].append((sol[7]-data_f['MIqD']))\n",
    "    temp_delta[8].append(sol[8]-data_f['MSDpO'])\n",
    "    temp_delta[9].append((sol[9]-data_f['MSDqO']))\n",
    "    temp_delta[10].append(sol[10]-data_f['MSDpD'])\n",
    "    temp_delta[11].append((sol[11]-data_f['MSDqD']))\n",
    "\n",
    "delta = []\n",
    "for i in range(len(temp_delta)):\n",
    "    delta.append(np.mean(temp_delta[i]))\n",
    "\n",
    "rcParams.update({'figure.autolayout': True})\n",
    "rcParams.update({'font.size': 13})\n",
    "fig, ax = plt.subplots(figsize=(6.4, 4.8))\n",
    "x = np.arange(len(delta))\n",
    "\n",
    "bar_width = 0.4\n",
    "ax2 = ax.twinx() \n",
    "\n",
    "cnt = 0\n",
    "for i in np.arange(0,len(delta), 2):\n",
    "    ax.bar(x[i]+cnt, delta[i],\n",
    "        width=.8, color='steelblue')\n",
    "\n",
    "    ax2.bar(x[i+1]+cnt, delta[i+1],\n",
    "        width=.8, color='brown')\n",
    "\n",
    "    cnt+=2.5\n",
    "\n",
    "p = []\n",
    "q = []\n",
    "for i in range(len(delta)):\n",
    "    if i%2 == 0:\n",
    "        p.append(delta[i])\n",
    "    else:\n",
    "        q.append(delta[i])\n",
    "lim_p = max(abs(min(p)), abs(max(p)))\n",
    "lim_q = max(abs(min(q)), abs(max(q)))\n",
    "plt.grid(linestyle='-.')    \n",
    "tick = np.arange(0.5,25,4.5)  \n",
    "plt.xticks(tick)\n",
    "ax2.set_ylim(-lim_q-1000, lim_q+1000)\n",
    "ax.set_ylim(-lim_p-10, lim_p+10)\n",
    "ax.set_ylabel('$\\Delta$ Bidded Prices [\\u20ac/MWh]')\n",
    "ax2.set_ylabel('$\\Delta$ Bidded Quantities [MWh]')\n",
    "plt.xticks(tick, labels=[\n",
    "    'MGP\\nOFF', 'MGP\\nDEM', 'MI\\nOFF', 'MI\\nDEM', 'MSD\\nOFF', 'MSD\\nDEM'])    \n",
    "ax.legend(['Prices'],loc='lower left', bbox_to_anchor= (.0, 1.01), ncol=2,\n",
    "            borderaxespad=0, frameon=False)\n",
    "ax2.legend(['Quantities'],loc='lower left', bbox_to_anchor= (.3, 1.01), ncol=2,\n",
    "            borderaxespad=0, frameon=False)\n",
    "plt.savefig('../fig/avg_resource.png', transparent=True)"
   ]
  }
 ],
 "metadata": {
  "kernelspec": {
   "display_name": "Python 3.6.9 64-bit",
   "language": "python",
   "name": "python36964bit783c28c53b0e437ca95db3440c52cd20"
  },
  "language_info": {
   "codemirror_mode": {
    "name": "ipython",
    "version": 3
   },
   "file_extension": ".py",
   "mimetype": "text/x-python",
   "name": "python",
   "nbconvert_exporter": "python",
   "pygments_lexer": "ipython3",
   "version": "3.6.9"
  }
 },
 "nbformat": 4,
 "nbformat_minor": 4
}