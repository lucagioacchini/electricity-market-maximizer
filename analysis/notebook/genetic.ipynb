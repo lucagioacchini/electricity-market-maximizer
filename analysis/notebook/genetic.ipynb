{
 "nbformat": 4,
 "nbformat_minor": 2,
 "metadata": {
  "language_info": {
   "name": "python",
   "codemirror_mode": {
    "name": "ipython",
    "version": 3
   },
   "version": "3.6.9-final"
  },
  "orig_nbformat": 2,
  "file_extension": ".py",
  "mimetype": "text/x-python",
  "name": "python",
  "npconvert_exporter": "python",
  "pygments_lexer": "ipython3",
  "version": 3,
  "kernelspec": {
   "name": "python36964bit783c28c53b0e437ca95db3440c52cd20",
   "display_name": "Python 3.6.9 64-bit"
  }
 },
 "cells": [
  {
   "cell_type": "markdown",
   "metadata": {},
   "source": [
    "# Genetic Initial Guess"
   ],
   "execution_count": null,
   "outputs": []
  },
  {
   "cell_type": "code",
   "execution_count": null,
   "metadata": {},
   "outputs": [],
   "source": [
    "import sys\n",
    "sys.path.append(\"..\")\n",
    "import pandas as pd \n",
    "from src.arima import ArimaV2 as Arima\n",
    "from src.genetic import Genetic\n",
    "from influxdb import InfluxDBClient\n",
    "from datetime import datetime\n",
    "from dateutil import relativedelta\n",
    "import matplotlib.pyplot as plt\n",
    "from matplotlib import rcParams\n",
    "import numpy as np\n",
    "rcParams.update({'font.size': 12})"
   ]
  },
  {
   "cell_type": "code",
   "execution_count": null,
   "metadata": {},
   "outputs": [],
   "source": [
    "TODAY = datetime.strptime('15/03/2020', '%d/%m/%Y')\n",
    "START = TODAY - relativedelta.relativedelta(days=60)\n",
    "START = int(datetime.timestamp(START)*1e9)"
   ]
  },
  {
   "cell_type": "markdown",
   "metadata": {},
   "source": [
    "Load Data"
   ]
  },
  {
   "cell_type": "code",
   "execution_count": null,
   "metadata": {},
   "outputs": [],
   "source": [
    "data = pd.read_csv('../data/predictedOps.csv').drop(columns=['Unnamed: 0']).set_index('op')"
   ]
  },
  {
   "cell_type": "markdown",
   "metadata": {},
   "source": [
    "Perform 3 optimization with different mutation offsets to determine the best one."
   ]
  },
  {
   "cell_type": "code",
   "execution_count": null,
   "metadata": {
    "tags": [
     "outputPrepend",
     "outputPrepend",
     "outputPrepend",
     "outputPrepend",
     "outputPrepend",
     "outputPrepend",
     "outputPrepend",
     "outputPrepend",
     "outputPrepend",
     "outputPrepend",
     "outputPrepend",
     "outputPrepend",
     "outputPrepend",
     "outputPrepend",
     "outputPrepend",
     "outputPrepend",
     "outputPrepend",
     "outputPrepend",
     "outputPrepend"
    ]
   },
   "outputs": [],
   "source": [
    "profit = []\n",
    "for off in [4.0, 8.0, 12.0]:\n",
    "    genetic = Genetic('IREN ENERGIA SPA', data, TODAY, off)\n",
    "    p, _, o = genetic.run()\n",
    "    profit.append(p)"
   ]
  },
  {
   "cell_type": "code",
   "execution_count": null,
   "metadata": {},
   "outputs": [],
   "source": [
    "plt.figure(figsize=(9,7))\n",
    "rcParams.update({'figure.autolayout': True})\n",
    "plt.plot(profit[0], linewidth=2, color='#1f77b4', linestyle='-', label='GA 5')\n",
    "plt.plot(profit[1], linewidth=2, color='#d62728', linestyle='--', label='GA 8')\n",
    "plt.plot(profit[2], linewidth=2, color='#2ca02c', linestyle='-.', label='GA 12')\n",
    "plt.legend()\n",
    "plt.grid(linestyle='-.', linewidth=.5)\n",
    "plt.xlabel('Generations')\n",
    "plt.ylabel('Fitness Function')\n",
    "plt.savefig('../fig/geneticTrend.png', transparent = True)"
   ]
  },
  {
   "cell_type": "markdown",
   "metadata": {},
   "source": [
    "Load data referred to three different optimization with different mutation offsets. Each optimization is performed for each operator in the database"
   ]
  },
  {
   "cell_type": "code",
   "execution_count": null,
   "metadata": {},
   "outputs": [],
   "source": [
    "gen1 = pd.read_csv('../data/gen1.csv')\n",
    "gen2 = pd.read_csv('../data/gen2.csv')\n",
    "gen3 = pd.read_csv('../data/gen3.csv')"
   ]
  },
  {
   "cell_type": "code",
   "execution_count": null,
   "metadata": {},
   "outputs": [],
   "source": [
    "plt.figure(figsize=(9,7))\n",
    "rcParams.update({'figure.autolayout': True})\n",
    "bins = np.arange(min(gen1['gen1']), max(gen1['gen1']), 50)\n",
    "\n",
    "plt.hist([gen1['gen1'], gen2['gen2'],gen3['gen3']], bins=bins, color = ['steelblue','salmon','brown'], rwidth=.9, label=['GA4', 'GA8', 'GA12'])\n",
    "\n",
    "plt.xticks(bins, rotation=90)\n",
    "plt.ylim(0,50)\n",
    "plt.xlim(0, 1400)\n",
    "plt.xlabel('Number of Generations')\n",
    "plt.ylabel('Occurrences')\n",
    "plt.legend()\n",
    "plt.savefig('../fig/genetiGens.png', transparent = True)"
   ]
  },
  {
   "cell_type": "code",
   "execution_count": null,
   "metadata": {},
   "outputs": [],
   "source": [
    "plt.figure(figsize=(9,7))\n",
    "rcParams.update({'figure.autolayout': True})\n",
    "bins = np.arange(min(gen1['prof1']), max(gen1['prof1']), 4000)\n",
    "\n",
    "plt.hist([gen1['prof1'], gen2['prof2'],gen3['prof3']], bins=bins, color = ['steelblue','salmon','brown'], rwidth=.9, label=['GA4', 'GA8', 'GA12'])\n",
    "\n",
    "plt.xticks(bins, rotation=90)\n",
    "plt.ylim(0,50)\n",
    "plt.xlim(0, 130000)\n",
    "plt.xlabel('Number of Generations')\n",
    "plt.ylabel('Occurrences')\n",
    "plt.legend()\n",
    "plt.savefig('../fig/genetiProf.png', transparent = True)"
   ]
  }
 ]
}